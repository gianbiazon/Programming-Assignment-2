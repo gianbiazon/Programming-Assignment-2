{
 "cells": [
  {
   "cell_type": "code",
   "execution_count": 21,
   "id": "7ef2e09d-7f9d-4a7e-b30f-747979778daa",
   "metadata": {},
   "outputs": [
    {
     "name": "stdout",
     "output_type": "stream",
     "text": [
      "Random array: \n",
      "[[0.92834142 0.93715356 0.52166346 0.1230789  0.70274927]\n",
      " [0.49343953 0.06397058 0.62387753 0.32151404 0.68618213]\n",
      " [0.49250452 0.64934676 0.5977897  0.62253172 0.97144413]\n",
      " [0.24550096 0.86806482 0.19917245 0.62897896 0.88850629]\n",
      " [0.92861381 0.77129035 0.15279853 0.41353113 0.25731785]]\n",
      "\n",
      "Normalized array: \n",
      "[[ 1.32281764  1.35477461 -0.15198927 -1.59744566  0.50471365]\n",
      " [-0.25434261 -1.81180042  0.21868736 -0.87782584  0.44463335]\n",
      " [-0.25773339  0.31105085  0.12408054  0.21380683  1.47912845]\n",
      " [-1.15348528  1.10422611 -1.3214944   0.23718756  1.17835657]\n",
      " [ 1.32380545  0.75327605 -1.48966819 -0.54412831 -1.11063165]]\n"
     ]
    }
   ],
   "source": [
    "#A function that runs normalization\n",
    "\n",
    "import numpy as np\n",
    "\n",
    "RANDOM = np.random.random((5,5)) #creates a random 5x5 ndarray with values between 0 and 1\n",
    "print(\"Random array: \")\n",
    "print(RANDOM)\n",
    "print()\n",
    "\n",
    "mean_RANDOM = RANDOM.mean() #calculates the mean element-wise\n",
    "std_RANDOM = RANDOM.std() #calculates the standard deviation element-wise\n",
    "RANDOM_normalized = (RANDOM - mean_RANDOM) / std_RANDOM #normalize \"RANDOM\" by doing the math operation Z = (x - mean) / standard deviation\n",
    "\n",
    "print(\"Normalized array: \")\n",
    "print(RANDOM_normalized)"
   ]
  },
  {
   "cell_type": "code",
   "execution_count": 25,
   "id": "f0b63c53-c561-4d5a-9dfa-b064c6d7873d",
   "metadata": {},
   "outputs": [
    {
     "name": "stdout",
     "output_type": "stream",
     "text": [
      "A= \n",
      "[[    1     4     9    16    25    36    49    64    81   100]\n",
      " [  121   144   169   196   225   256   289   324   361   400]\n",
      " [  441   484   529   576   625   676   729   784   841   900]\n",
      " [  961  1024  1089  1156  1225  1296  1369  1444  1521  1600]\n",
      " [ 1681  1764  1849  1936  2025  2116  2209  2304  2401  2500]\n",
      " [ 2601  2704  2809  2916  3025  3136  3249  3364  3481  3600]\n",
      " [ 3721  3844  3969  4096  4225  4356  4489  4624  4761  4900]\n",
      " [ 5041  5184  5329  5476  5625  5776  5929  6084  6241  6400]\n",
      " [ 6561  6724  6889  7056  7225  7396  7569  7744  7921  8100]\n",
      " [ 8281  8464  8649  8836  9025  9216  9409  9604  9801 10000]]\n",
      "\n",
      "Elements divisible by 3: \n",
      "[   9   36   81  144  225  324  441  576  729  900 1089 1296 1521 1764\n",
      " 2025 2304 2601 2916 3249 3600 3969 4356 4761 5184 5625 6084 6561 7056\n",
      " 7569 8100 8649 9216 9801]\n",
      "\n"
     ]
    }
   ],
   "source": [
    "#A function that is a 10x10 ndarray which are the squares of the first 100 positive integers and determines the elements divisible by 3\n",
    "\n",
    "import numpy as np\n",
    "\n",
    "Positive100 = np.arange (1,101) #an array of first 100 positive integers\n",
    "\n",
    "square = Positive100 ** 2 #squares first 100 positive integers element-wise\n",
    "Ten_by_Ten = square.reshape(10,10) #reshape the 1Dimensional array into a 10x10 matrix\n",
    "print(\"A= \")\n",
    "print(Ten_by_Ten)\n",
    "print()\n",
    "\n",
    "divisible = Ten_by_Ten % 3 == 0 #checks element-wise if it is divisible by 3\n",
    "Three = Ten_by_Ten[divisible] #sets the element divisible by 3 to \"Three\"\n",
    "print(\"Elements divisible by 3: \")\n",
    "print(Three)\n",
    "print()\n",
    "\n",
    "np.save('Three.npy',Three)"
   ]
  }
 ],
 "metadata": {
  "kernelspec": {
   "display_name": "Python 3 (ipykernel)",
   "language": "python",
   "name": "python3"
  },
  "language_info": {
   "codemirror_mode": {
    "name": "ipython",
    "version": 3
   },
   "file_extension": ".py",
   "mimetype": "text/x-python",
   "name": "python",
   "nbconvert_exporter": "python",
   "pygments_lexer": "ipython3",
   "version": "3.13.5"
  }
 },
 "nbformat": 4,
 "nbformat_minor": 5
}
